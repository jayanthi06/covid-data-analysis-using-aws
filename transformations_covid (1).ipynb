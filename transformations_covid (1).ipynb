{
 "cells": [
  {
   "cell_type": "code",
   "execution_count": 4,
   "id": "7e588e24-e342-4b87-987f-58fbec6f5543",
   "metadata": {},
   "outputs": [
    {
     "name": "stdout",
     "output_type": "stream",
     "text": [
      "Requirement already satisfied: pandas in c:\\users\\jayan\\anaconda3\\lib\\site-packages (2.2.2)Note: you may need to restart the kernel to use updated packages.\n",
      "\n",
      "Requirement already satisfied: boto3 in c:\\users\\jayan\\anaconda3\\lib\\site-packages (1.37.35)\n",
      "Requirement already satisfied: pycountry in c:\\users\\jayan\\anaconda3\\lib\\site-packages (24.6.1)\n",
      "Requirement already satisfied: numpy>=1.26.0 in c:\\users\\jayan\\anaconda3\\lib\\site-packages (from pandas) (1.26.4)\n",
      "Requirement already satisfied: python-dateutil>=2.8.2 in c:\\users\\jayan\\anaconda3\\lib\\site-packages (from pandas) (2.9.0.post0)\n",
      "Requirement already satisfied: pytz>=2020.1 in c:\\users\\jayan\\anaconda3\\lib\\site-packages (from pandas) (2024.1)\n",
      "Requirement already satisfied: tzdata>=2022.7 in c:\\users\\jayan\\anaconda3\\lib\\site-packages (from pandas) (2023.3)\n",
      "Requirement already satisfied: botocore<1.38.0,>=1.37.35 in c:\\users\\jayan\\anaconda3\\lib\\site-packages (from boto3) (1.37.35)\n",
      "Requirement already satisfied: jmespath<2.0.0,>=0.7.1 in c:\\users\\jayan\\anaconda3\\lib\\site-packages (from boto3) (1.0.1)\n",
      "Requirement already satisfied: s3transfer<0.12.0,>=0.11.0 in c:\\users\\jayan\\anaconda3\\lib\\site-packages (from boto3) (0.11.4)\n",
      "Requirement already satisfied: urllib3!=2.2.0,<3,>=1.25.4 in c:\\users\\jayan\\anaconda3\\lib\\site-packages (from botocore<1.38.0,>=1.37.35->boto3) (2.2.3)\n",
      "Requirement already satisfied: six>=1.5 in c:\\users\\jayan\\anaconda3\\lib\\site-packages (from python-dateutil>=2.8.2->pandas) (1.16.0)\n"
     ]
    }
   ],
   "source": [
    "pip install pandas boto3 pycountry\n"
   ]
  },
  {
   "cell_type": "code",
   "execution_count": null,
   "id": "2f67cc48-2158-4b29-bc74-a06eef0ca1f9",
   "metadata": {},
   "outputs": [],
   "source": [
    "import boto3\n",
    "import pandas as pd\n",
    "import boto3\n",
    "from io import StringIO"
   ]
  },
  {
   "cell_type": "code",
   "execution_count": 7,
   "id": "e155f8e8-4835-4783-8fa3-be0624f7539c",
   "metadata": {},
   "outputs": [
    {
     "data": {
      "text/html": [
       "<div>\n",
       "<style scoped>\n",
       "    .dataframe tbody tr th:only-of-type {\n",
       "        vertical-align: middle;\n",
       "    }\n",
       "\n",
       "    .dataframe tbody tr th {\n",
       "        vertical-align: top;\n",
       "    }\n",
       "\n",
       "    .dataframe thead th {\n",
       "        text-align: right;\n",
       "    }\n",
       "</style>\n",
       "<table border=\"1\" class=\"dataframe\">\n",
       "  <thead>\n",
       "    <tr style=\"text-align: right;\">\n",
       "      <th></th>\n",
       "      <th>date</th>\n",
       "      <th>state</th>\n",
       "      <th>positive</th>\n",
       "      <th>probableCases</th>\n",
       "      <th>negative</th>\n",
       "      <th>pending</th>\n",
       "      <th>totalTestResultsSource</th>\n",
       "      <th>totalTestResults</th>\n",
       "      <th>hospitalizedCurrently</th>\n",
       "      <th>hospitalizedCumulative</th>\n",
       "      <th>...</th>\n",
       "      <th>dataQualityGrade</th>\n",
       "      <th>deathIncrease</th>\n",
       "      <th>hospitalizedIncrease</th>\n",
       "      <th>hash</th>\n",
       "      <th>commercialScore</th>\n",
       "      <th>negativeRegularScore</th>\n",
       "      <th>negativeScore</th>\n",
       "      <th>positiveScore</th>\n",
       "      <th>score</th>\n",
       "      <th>grade</th>\n",
       "    </tr>\n",
       "  </thead>\n",
       "  <tbody>\n",
       "    <tr>\n",
       "      <th>0</th>\n",
       "      <td>20210307</td>\n",
       "      <td>AK</td>\n",
       "      <td>56886.0</td>\n",
       "      <td>NaN</td>\n",
       "      <td>NaN</td>\n",
       "      <td>NaN</td>\n",
       "      <td>totalTestsViral</td>\n",
       "      <td>1731628.0</td>\n",
       "      <td>33.0</td>\n",
       "      <td>1293.0</td>\n",
       "      <td>...</td>\n",
       "      <td>NaN</td>\n",
       "      <td>0</td>\n",
       "      <td>0</td>\n",
       "      <td>dc4bccd4bb885349d7e94d6fed058e285d4be164</td>\n",
       "      <td>0</td>\n",
       "      <td>0</td>\n",
       "      <td>0</td>\n",
       "      <td>0</td>\n",
       "      <td>0</td>\n",
       "      <td>NaN</td>\n",
       "    </tr>\n",
       "    <tr>\n",
       "      <th>1</th>\n",
       "      <td>20210307</td>\n",
       "      <td>AL</td>\n",
       "      <td>499819.0</td>\n",
       "      <td>107742.0</td>\n",
       "      <td>1931711.0</td>\n",
       "      <td>NaN</td>\n",
       "      <td>totalTestsPeopleViral</td>\n",
       "      <td>2323788.0</td>\n",
       "      <td>494.0</td>\n",
       "      <td>45976.0</td>\n",
       "      <td>...</td>\n",
       "      <td>NaN</td>\n",
       "      <td>-1</td>\n",
       "      <td>0</td>\n",
       "      <td>997207b430824ea40b8eb8506c19a93e07bc972e</td>\n",
       "      <td>0</td>\n",
       "      <td>0</td>\n",
       "      <td>0</td>\n",
       "      <td>0</td>\n",
       "      <td>0</td>\n",
       "      <td>NaN</td>\n",
       "    </tr>\n",
       "    <tr>\n",
       "      <th>2</th>\n",
       "      <td>20210307</td>\n",
       "      <td>AR</td>\n",
       "      <td>324818.0</td>\n",
       "      <td>69092.0</td>\n",
       "      <td>2480716.0</td>\n",
       "      <td>NaN</td>\n",
       "      <td>totalTestsViral</td>\n",
       "      <td>2736442.0</td>\n",
       "      <td>335.0</td>\n",
       "      <td>14926.0</td>\n",
       "      <td>...</td>\n",
       "      <td>NaN</td>\n",
       "      <td>22</td>\n",
       "      <td>11</td>\n",
       "      <td>50921aeefba3e30d31623aa495b47fb2ecc72fae</td>\n",
       "      <td>0</td>\n",
       "      <td>0</td>\n",
       "      <td>0</td>\n",
       "      <td>0</td>\n",
       "      <td>0</td>\n",
       "      <td>NaN</td>\n",
       "    </tr>\n",
       "    <tr>\n",
       "      <th>3</th>\n",
       "      <td>20210307</td>\n",
       "      <td>AS</td>\n",
       "      <td>0.0</td>\n",
       "      <td>NaN</td>\n",
       "      <td>2140.0</td>\n",
       "      <td>NaN</td>\n",
       "      <td>totalTestsViral</td>\n",
       "      <td>2140.0</td>\n",
       "      <td>NaN</td>\n",
       "      <td>NaN</td>\n",
       "      <td>...</td>\n",
       "      <td>NaN</td>\n",
       "      <td>0</td>\n",
       "      <td>0</td>\n",
       "      <td>96d23f888c995b9a7f3b4b864de6414f45c728ff</td>\n",
       "      <td>0</td>\n",
       "      <td>0</td>\n",
       "      <td>0</td>\n",
       "      <td>0</td>\n",
       "      <td>0</td>\n",
       "      <td>NaN</td>\n",
       "    </tr>\n",
       "    <tr>\n",
       "      <th>4</th>\n",
       "      <td>20210307</td>\n",
       "      <td>AZ</td>\n",
       "      <td>826454.0</td>\n",
       "      <td>56519.0</td>\n",
       "      <td>3073010.0</td>\n",
       "      <td>NaN</td>\n",
       "      <td>totalTestsViral</td>\n",
       "      <td>7908105.0</td>\n",
       "      <td>963.0</td>\n",
       "      <td>57907.0</td>\n",
       "      <td>...</td>\n",
       "      <td>NaN</td>\n",
       "      <td>5</td>\n",
       "      <td>44</td>\n",
       "      <td>0437a7a96f4471666f775e63e86923eb5cbd8cdf</td>\n",
       "      <td>0</td>\n",
       "      <td>0</td>\n",
       "      <td>0</td>\n",
       "      <td>0</td>\n",
       "      <td>0</td>\n",
       "      <td>NaN</td>\n",
       "    </tr>\n",
       "  </tbody>\n",
       "</table>\n",
       "<p>5 rows × 56 columns</p>\n",
       "</div>"
      ],
      "text/plain": [
       "       date state  positive  probableCases   negative  pending  \\\n",
       "0  20210307    AK   56886.0            NaN        NaN      NaN   \n",
       "1  20210307    AL  499819.0       107742.0  1931711.0      NaN   \n",
       "2  20210307    AR  324818.0        69092.0  2480716.0      NaN   \n",
       "3  20210307    AS       0.0            NaN     2140.0      NaN   \n",
       "4  20210307    AZ  826454.0        56519.0  3073010.0      NaN   \n",
       "\n",
       "  totalTestResultsSource  totalTestResults  hospitalizedCurrently  \\\n",
       "0        totalTestsViral         1731628.0                   33.0   \n",
       "1  totalTestsPeopleViral         2323788.0                  494.0   \n",
       "2        totalTestsViral         2736442.0                  335.0   \n",
       "3        totalTestsViral            2140.0                    NaN   \n",
       "4        totalTestsViral         7908105.0                  963.0   \n",
       "\n",
       "   hospitalizedCumulative  ...  dataQualityGrade  deathIncrease  \\\n",
       "0                  1293.0  ...               NaN              0   \n",
       "1                 45976.0  ...               NaN             -1   \n",
       "2                 14926.0  ...               NaN             22   \n",
       "3                     NaN  ...               NaN              0   \n",
       "4                 57907.0  ...               NaN              5   \n",
       "\n",
       "   hospitalizedIncrease                                      hash  \\\n",
       "0                     0  dc4bccd4bb885349d7e94d6fed058e285d4be164   \n",
       "1                     0  997207b430824ea40b8eb8506c19a93e07bc972e   \n",
       "2                    11  50921aeefba3e30d31623aa495b47fb2ecc72fae   \n",
       "3                     0  96d23f888c995b9a7f3b4b864de6414f45c728ff   \n",
       "4                    44  0437a7a96f4471666f775e63e86923eb5cbd8cdf   \n",
       "\n",
       "   commercialScore negativeRegularScore negativeScore positiveScore  score  \\\n",
       "0                0                    0             0             0      0   \n",
       "1                0                    0             0             0      0   \n",
       "2                0                    0             0             0      0   \n",
       "3                0                    0             0             0      0   \n",
       "4                0                    0             0             0      0   \n",
       "\n",
       "   grade  \n",
       "0    NaN  \n",
       "1    NaN  \n",
       "2    NaN  \n",
       "3    NaN  \n",
       "4    NaN  \n",
       "\n",
       "[5 rows x 56 columns]"
      ]
     },
     "execution_count": 7,
     "metadata": {},
     "output_type": "execute_result"
    }
   ],
   "source": [
    "s3 = boto3.client('s3',\n",
    "    aws_access_key_id='*********',\n",
    "    aws_secret_access_key='*********',\n",
    "    region_name='us-east-1'\n",
    ")\n",
    "\n",
    "bucket = 'covid-staging-bucket-jayanthi'\n",
    "key = 'raw/covid_testing_data_states_daily.csv'  # Adjust path\n",
    "\n",
    "# Read from S3\n",
    "obj = s3.get_object(Bucket=bucket, Key=key)\n",
    "df = pd.read_csv(obj['Body'])\n",
    "df.head()"
   ]
  },
  {
   "cell_type": "code",
   "execution_count": 46,
   "id": "e0e93138-471a-4f2b-b63f-1c8ead7e676b",
   "metadata": {},
   "outputs": [],
   "source": [
    "df['date'] = pd.to_datetime(df['date'])\n",
    "df_cleaned = df[['fips', 'state', 'date', 'positive', 'recovered', 'death']]\n",
    "\n",
    "# Drop rows with nulls\n",
    "df_cleaned = df_cleaned.dropna()\n",
    "\n",
    "# Type conversion\n",
    "df_cleaned['positive'] = df_cleaned['positive'].astype(int)\n",
    "df_cleaned['recovered'] = df_cleaned['recovered'].round(0).astype(int)\n",
    "df_cleaned['death'] = df_cleaned['death'].round(0).astype(int)\n",
    "\n",
    "    \n"
   ]
  },
  {
   "cell_type": "code",
   "execution_count": 52,
   "id": "bd4264a0-5421-4759-bfdb-ea8a623639ce",
   "metadata": {},
   "outputs": [
    {
     "name": "stdout",
     "output_type": "stream",
     "text": [
      "✅ Uploaded cleaned data to S3!\n"
     ]
    }
   ],
   "source": [
    "csv_buffer = StringIO()\n",
    "df_cleaned.to_csv(csv_buffer, index=False)\n",
    "\n",
    "s3.put_object(\n",
    "    Bucket=bucket,\n",
    "    Key='output/factscovid_cleaned.csv',\n",
    "    Body=csv_buffer.getvalue()\n",
    ")\n",
    "\n",
    "print(\"✅ Uploaded cleaned data to S3!\")\n"
   ]
  },
  {
   "cell_type": "code",
   "execution_count": 13,
   "id": "4fc83c6c-1f95-4c89-8892-7a3881ef9799",
   "metadata": {},
   "outputs": [],
   "source": [
    "hospital_df = load_csv_from_s3(bucket, 'raw/rearc_usa_hospital_beds.csv')  # update path if needed\n",
    "\n",
    "dimhospital = hospital_df[[\n",
    "    'FIPS', 'HOSPITAL_NAME', 'HOSPITAL_TYPE',\n",
    "    'HQ_ADDRESS', 'HQ_CITY', 'HQ_STATE',\n",
    "    'COUNTY_NAME', 'latitude', 'longtitude'\n",
    "]].dropna().rename(columns=str.lower)\n"
   ]
  },
  {
   "cell_type": "code",
   "execution_count": 19,
   "id": "7c3af32c-b1e2-44ab-a487-ab838953dd89",
   "metadata": {},
   "outputs": [
    {
     "name": "stdout",
     "output_type": "stream",
     "text": [
      "✅ dimhospital.csv uploaded to S3 successfully!\n"
     ]
    }
   ],
   "source": [
    "from io import StringIO\n",
    "\n",
    "# Create in-memory CSV\n",
    "csv_buffer = StringIO()\n",
    "\n",
    "# Convert DataFrame to CSV format\n",
    "dimhospital.to_csv(csv_buffer, index=False)\n",
    "\n",
    "# Upload to S3\n",
    "s3.put_object(\n",
    "    Bucket='covid-staging-bucket-jayanthi',\n",
    "    Key='output/dimhospital.csv',\n",
    "    Body=csv_buffer.getvalue()\n",
    ")\n",
    "\n",
    "print(\"✅ dimhospital.csv uploaded to S3 successfully!\")\n"
   ]
  },
  {
   "cell_type": "code",
   "execution_count": 27,
   "id": "0037b09f-6c12-4d83-a1b5-5af4b5a207d7",
   "metadata": {},
   "outputs": [
    {
     "name": "stdout",
     "output_type": "stream",
     "text": [
      "['state_fips', 'state_name', 'lat', 'long', 'date', 'cases', 'deaths', 'tests_positive', 'tests_negative', 'tests_pending', 'tests', 'patients_icu', 'patients_hosp', 'patients_vent', 'recovered']\n"
     ]
    }
   ],
   "source": [
    "print(jhud_df.columns.tolist())\n"
   ]
  },
  {
   "cell_type": "code",
   "execution_count": 30,
   "id": "88b1d9f6-65bf-4a0c-a680-3ff6b96f51e7",
   "metadata": {},
   "outputs": [
    {
     "name": "stdout",
     "output_type": "stream",
     "text": [
      "✅ dimregion.csv uploaded to S3 successfully!\n"
     ]
    }
   ],
   "source": [
    "import pycountry\n",
    "from io import StringIO\n",
    "\n",
    "def get_country(state_name):\n",
    "    if pd.isna(state_name):\n",
    "        return None\n",
    "    for subdivision in pycountry.subdivisions:\n",
    "        if subdivision.name.lower() == state_name.lower():\n",
    "            return pycountry.countries.get(alpha_2=subdivision.country_code).name\n",
    "    return \"United States\"\n",
    "\n",
    "# Select and rename relevant columns\n",
    "dimregion = jhud_df[['state_fips', 'state_name', 'lat', 'long']].copy()\n",
    "dimregion.columns = ['fips', 'province_state', 'latitude', 'longitude']\n",
    "\n",
    "# Add country info\n",
    "dimregion['country'] = dimregion['province_state'].apply(get_country)\n",
    "\n",
    "# Drop any rows with nulls (optional)\n",
    "dimregion = dimregion.dropna()\n",
    "\n",
    "# Upload to S3\n",
    "buffer = StringIO()\n",
    "dimregion.to_csv(buffer, index=False)\n",
    "s3.put_object(Bucket=bucket, Key='output/dimregion.csv', Body=buffer.getvalue())\n",
    "\n",
    "print(\"✅ dimregion.csv uploaded to S3 successfully!\")\n"
   ]
  },
  {
   "cell_type": "code",
   "execution_count": 34,
   "id": "170d7b9b-025a-4d79-86ca-5a53e12b0595",
   "metadata": {},
   "outputs": [
    {
     "name": "stdout",
     "output_type": "stream",
     "text": [
      "\n",
      "✅ dimdate.csv transformed and uploaded to S3!\n"
     ]
    }
   ],
   "source": [
    "dimdate = pd.DataFrame({\n",
    "    'date': df['date'],\n",
    "    'day': df['date'].dt.day,\n",
    "    'month': df['date'].dt.month,\n",
    "    'year': df['date'].dt.year,\n",
    "    'is_weekend': df['date'].dt.weekday >= 5\n",
    "}).drop_duplicates()\n",
    "\n",
    "buffer = StringIO()\n",
    "dimdate.to_csv(buffer, index=False)\n",
    "s3.put_object(Bucket=bucket, Key='output/dimdate.csv', Body=buffer.getvalue())\n",
    "\n",
    "print(\"\\n✅ dimdate.csv transformed and uploaded to S3!\")\n"
   ]
  },
  {
   "cell_type": "code",
   "execution_count": null,
   "id": "e6ef0fa9-20f7-4e76-8b40-352a8c8d5f5b",
   "metadata": {},
   "outputs": [],
   "source": []
  }
 ],
 "metadata": {
  "kernelspec": {
   "display_name": "Python [conda env:base] *",
   "language": "python",
   "name": "conda-base-py"
  },
  "language_info": {
   "codemirror_mode": {
    "name": "ipython",
    "version": 3
   },
   "file_extension": ".py",
   "mimetype": "text/x-python",
   "name": "python",
   "nbconvert_exporter": "python",
   "pygments_lexer": "ipython3",
   "version": "3.12.7"
  }
 },
 "nbformat": 4,
 "nbformat_minor": 5
}
